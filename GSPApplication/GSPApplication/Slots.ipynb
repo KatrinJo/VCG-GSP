{
 "cells": [
  {
   "cell_type": "code",
   "execution_count": null,
   "metadata": {
    "collapsed": true
   },
   "outputs": [],
   "source": [
    "import numpy as np\n",
    "import string"
   ]
  },
  {
   "cell_type": "code",
   "execution_count": null,
   "metadata": {
    "collapsed": true
   },
   "outputs": [],
   "source": [
    "class Slots(object):\n",
    "    numOfSlots = 0\n",
    "    clickRate = []\n",
    "\n",
    "    def __init__(self, numSlots, numBidders = 0):\n",
    "        self.numOfSlots = int(numSlots)\n",
    "        # self.clickRate = sorted(np.random.rand(1,self.numOfSlots)[0],reverse=True)\n",
    "        cR = sorted(np.random.rand(1,self.numOfSlots)[0],reverse=True)\n",
    "        cR = cR / np.sum(cR)\n",
    "        self.clickRate = cR\n",
    "        if (numBidders-numSlots) > 0:\n",
    "            np.append(self.clickRate, [0]*(numBidders-numSlots))\n",
    "        # clickTimes = np.random.randint(0,100,(self.numOfSlots))\n",
    "        # np.divide(clickTimes,np.sum(clickTimes))"
   ]
  }
 ],
 "metadata": {
  "kernelspec": {
   "display_name": "Python 3",
   "language": "python",
   "name": "python3"
  },
  "language_info": {
   "codemirror_mode": {
    "name": "ipython",
    "version": 3
   },
   "file_extension": ".py",
   "mimetype": "text/x-python",
   "name": "python",
   "nbconvert_exporter": "python",
   "pygments_lexer": "ipython3",
   "version": "3.5.2"
  }
 },
 "nbformat": 4,
 "nbformat_minor": 2
}
