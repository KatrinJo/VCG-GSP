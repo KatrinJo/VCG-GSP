{
 "cells": [
  {
   "cell_type": "code",
   "execution_count": null,
   "metadata": {
    "collapsed": true
   },
   "outputs": [],
   "source": [
    "class historyAuctionTuple(object):\n",
    "    def __init__(self, numbid, numslots, bidVec,  allocation, bidGetSlot, clickRate, priceBids, revenue):\n",
    "        self.numOfBidder = int(numbid)\n",
    "        self.numOfSlots = int(numslots)\n",
    "        self.bidVec = bidVec # 出价向量\n",
    "        self.allocation = allocation # 从numOfSlots~numOfBidder-1号的是点击率为0的\n",
    "        self.bidGetSlot = bidGetSlot # slot编号>=numOfSlots的相当于lose the auction\n",
    "        self.clickRate = clickRate\n",
    "        self.priceBids = priceBids # 最后出的钱\n",
    "        self.revenue = revenue"
   ]
  }
 ],
 "metadata": {
  "kernelspec": {
   "display_name": "Python 3",
   "language": "python",
   "name": "python3"
  },
  "language_info": {
   "codemirror_mode": {
    "name": "ipython",
    "version": 3
   },
   "file_extension": ".py",
   "mimetype": "text/x-python",
   "name": "python",
   "nbconvert_exporter": "python",
   "pygments_lexer": "ipython3",
   "version": "3.5.2"
  }
 },
 "nbformat": 4,
 "nbformat_minor": 2
}
